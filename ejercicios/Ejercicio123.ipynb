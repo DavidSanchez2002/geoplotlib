{
 "cells": [
  {
   "cell_type": "markdown",
   "id": "3ebe17d2",
   "metadata": {},
   "source": [
    "Ejercicio1\n",
    "Busca un repositorio de datos para mostrar un gráfico con visualización geográfica.\n",
    "Puedes utilizar la librería Geoplotlib"
   ]
  },
  {
   "cell_type": "markdown",
   "id": "848e6562",
   "metadata": {},
   "source": [
    "conda install -c conda-forge geoplotlib / \n",
    "pip install geoplotlib"
   ]
  },
  {
   "cell_type": "code",
   "execution_count": 1,
   "id": "e13ae4ab",
   "metadata": {},
   "outputs": [],
   "source": [
    "import geoplotlib\n",
    "from geoplotlib.utils import read_csv\n",
    "\n",
    "data = read_csv(\"flights.csv\") #replace path with your file path\n",
    "geoplotlib.graph(data, src_lat='lat_departure', src_lon='lon_departure', dest_lat='lat_arrival', dest_lon='lon_arrival', color='hot_r', alpha=16, linewidth=2)\n",
    "geoplotlib.show()"
   ]
  },
  {
   "cell_type": "markdown",
   "id": "f2471d9c",
   "metadata": {},
   "source": [
    "Ejercicio2\n",
    "Prueba a mostrar un gráfico con visualización geográfica pero utilizando otra librería diferente que no sea Geoplotlib"
   ]
  },
  {
   "cell_type": "code",
   "execution_count": 2,
   "id": "3193f638",
   "metadata": {},
   "outputs": [
    {
     "ename": "ModuleNotFoundError",
     "evalue": "No module named 'arrows'",
     "output_type": "error",
     "traceback": [
      "\u001b[1;31m---------------------------------------------------------------------------\u001b[0m",
      "\u001b[1;31mModuleNotFoundError\u001b[0m                       Traceback (most recent call last)",
      "\u001b[1;32m<ipython-input-2-02758e8d8db4>\u001b[0m in \u001b[0;36m<module>\u001b[1;34m\u001b[0m\n\u001b[0;32m      2\u001b[0m \u001b[1;33m\u001b[0m\u001b[0m\n\u001b[0;32m      3\u001b[0m \u001b[1;32mimport\u001b[0m \u001b[0mcartopy\u001b[0m\u001b[1;33m.\u001b[0m\u001b[0mcrs\u001b[0m \u001b[1;32mas\u001b[0m \u001b[0mccrs\u001b[0m\u001b[1;33m\u001b[0m\u001b[1;33m\u001b[0m\u001b[0m\n\u001b[1;32m----> 4\u001b[1;33m \u001b[1;32mfrom\u001b[0m \u001b[0marrows\u001b[0m \u001b[1;32mimport\u001b[0m \u001b[0msample_data\u001b[0m\u001b[1;33m\u001b[0m\u001b[1;33m\u001b[0m\u001b[0m\n\u001b[0m\u001b[0;32m      5\u001b[0m \u001b[1;33m\u001b[0m\u001b[0m\n\u001b[0;32m      6\u001b[0m \u001b[1;33m\u001b[0m\u001b[0m\n",
      "\u001b[1;31mModuleNotFoundError\u001b[0m: No module named 'arrows'"
     ]
    }
   ],
   "source": [
    "import matplotlib.pyplot as plt\n",
    "\n",
    "import cartopy.crs as ccrs\n",
    "from arrows import sample_data\n",
    "\n",
    "\n",
    "def main():\n",
    "    fig = plt.figure(figsize=(10, 5))\n",
    "    ax = fig.add_subplot(1, 1, 1, projection=ccrs.PlateCarree())\n",
    "    ax.set_extent([-90, 75, 10, 85], crs=ccrs.PlateCarree())\n",
    "    ax.coastlines()\n",
    "\n",
    "    x, y, u, v, vector_crs = sample_data(shape=(80, 100))\n",
    "    magnitude = (u ** 2 + v ** 2) ** 0.5\n",
    "    ax.streamplot(x, y, u, v, transform=vector_crs,\n",
    "                  linewidth=2, density=2, color=magnitude)\n",
    "    plt.show()\n",
    "\n",
    "\n",
    "if __name__ == '__main__':\n",
    "    main()"
   ]
  },
  {
   "cell_type": "markdown",
   "id": "929c9022",
   "metadata": {},
   "source": [
    "Ejercicio3\n",
    "Puedes utilizar google Maps para mostrar DF de Python?"
   ]
  },
  {
   "cell_type": "code",
   "execution_count": 56,
   "id": "6b086598",
   "metadata": {},
   "outputs": [
    {
     "ename": "IndentationError",
     "evalue": "expected an indented block (<ipython-input-56-ed65b32c8549>, line 9)",
     "output_type": "error",
     "traceback": [
      "\u001b[1;36m  File \u001b[1;32m\"<ipython-input-56-ed65b32c8549>\"\u001b[1;36m, line \u001b[1;32m9\u001b[0m\n\u001b[1;33m    &markers=color:blue|label:S|40.702147,-74.015794&sensor=false\"\"\"\u001b[0m\n\u001b[1;37m    ^\u001b[0m\n\u001b[1;31mIndentationError\u001b[0m\u001b[1;31m:\u001b[0m expected an indented block\n"
     ]
    }
   ],
   "source": [
    "def get_static_google_map(filename_wo_extension, center=None, zoom=None, imgsize=\"500x500\", imgformat=\"jpeg\",\n",
    "maptype=\"roadmap\", markers=None ):\n",
    "\"\"\"retrieve a map (image) from the static google maps server\n",
    " \n",
    "See: http://code.google.com/apis/maps/documentation/staticmaps/\n",
    " \n",
    "Creates a url2 string with a URL like this:\n",
    "http://maps.google.com/maps/api/staticmap?center=Brooklyn+Bridge,New+York,NY&zoom=14&size=512x512&maptype=roadmap\n",
    "&markers=color:blue|label:S|40.702147,-74.015794&sensor=false\"\"\"\n",
    " \n",
    "# assemble the URL\n",
    "url2  =  \"http://maps.google.com/maps/api/staticmap?\" # base URL, append query params, separated by &\n",
    " \n",
    "# if center and zoom  are not given, the map will show all marker locations\n",
    "if center != None:\n",
    "url2 += \"center=%s&\" % center\n",
    "#url2 += \"center=%s&\" % \"40.714728, -73.998672\"   # latitude and longitude (up to 6-digits)\n",
    "#url2 += \"center=%s&\" % \"50011\" # could also be a zipcode,\n",
    "#url2 += \"center=%s&\" % \"Brooklyn+Bridge,New+York,NY\"  # or a search term\n",
    "if center != None:\n",
    "url2 += \"zoom=%i&\" % zoom  # zoom 0 (all of the world scale ) to 22 (single buildings scale)\n",
    " \n",
    "url2 += \"size=%ix%i&\" % (imgsize)  # tuple of ints, up to 640 by 640\n",
    "url2 += \"format=%s&\" % imgformat\n",
    "url2 += \"maptype=%s&\" % maptype  # roadmap, satellite, hybrid, terrain\n",
    " \n",
    "# add markers (location and style)\n",
    "if markers != None:\n",
    "for marker in markers:\n",
    "url2 += \"%s&\" % marker\n",
    " \n",
    "#url2 += \"mobile=false&\"  # optional: mobile=true will assume the image is shown on a small screen (mobile device)\n",
    "url2 += \"sensor=false&\"   # must be given, deals with getting loction from mobile device\n",
    "return url2\n",
    "\n",
    "mp_url = \"https://maps.googleapis.com/maps/api/staticmap?center={lat},{lon}&zoom=17&size=400x400&maptype=satellite&markers=color:green|label:|{lat},{lon}\"\n",
    " \n",
    "def crea_url(datos):\n",
    "return tmp_url.format(**datos)\n",
    "\n",
    "import requests\n",
    " \n",
    "proxy = \"127.0.0.1:8080\"\n",
    "proxies = {\"http\": proxy, \"https\": proxy}\n",
    "sesion = requests.Session()\n",
    "sesion.proxies = {}\n",
    "\n",
    "def save_imagen(datos):\n",
    "url = crea_url(datos)\n",
    "r = sesion.get(url)\n",
    "f=open('%s.png' % datos[\"nombre\"],'wb')\n",
    "f.write(r.content)\n",
    "f.close()\n",
    "\n",
    "from __future__ import print_function\n",
    "from __future__ import division\n",
    " \n",
    "__UPDATED__ = '2015.06.22'\n",
    "__AUTHOR__ = 'David Trillo'\n",
    "__WEBSITE__ = 'http://www.manejandodatos.es'\n",
    "__VERSION__ = \"1.0.0\"\n",
    " \n",
    "import requests\n",
    " \n",
    "# URLs antiguas\n",
    "#\n",
    " url =\n",
    "\"https://maps.googleapis.com/maps/api/staticmap?center=-38.25466,-4.971062&zoom=13&size=600x300&maptype=roadmap&markers=color:blue|label:S|40.702147,-74.015794&markers=color:green|label:G|40.711614,-74.012318&markers=color:red|label:C|40.718217,-73.998284\"\n",
    "tmp_url\n",
    " =\n",
    "\"https://maps.googleapis.com/maps/api/staticmap?center={lat},{lon}&zoom=17&size=400x400&maptype=satellite&markers=color:green|label:|{lat},{lon}\"\n",
    " \n",
    "def crea_url(datos):\n",
    "    return tmp_url.format(**datos)\n",
    " \n",
    "def save_imagen(datos):\n",
    "    url = crea_url(datos)\n",
    "    r = sesion.get(url)\n",
    "    f=open('%s.png' % datos[\"nombre\"],'wb')\n",
    "    f.write(r.content)\n",
    "    f.close()\n",
    " \n",
    "proxy = \"10.238.8.23:8080\"\n",
    "proxies = {\"http\": proxy, \"https\": proxy}\n",
    "sesion = requests.Session()\n",
    "sesion.proxies = proxies\n",
    " \n",
    "# Aqui se modifican los datos\n",
    "datos = {\"lat\": 37.8654938, \"lon\": -4.7791247, \"nombre\": \"gm2img\"}\n",
    " \n",
    "save_imagen(datos)"
   ]
  },
  {
   "cell_type": "code",
   "execution_count": null,
   "id": "28fe8fb8",
   "metadata": {},
   "outputs": [],
   "source": []
  }
 ],
 "metadata": {
  "kernelspec": {
   "display_name": "Python 3",
   "language": "python",
   "name": "python3"
  },
  "language_info": {
   "codemirror_mode": {
    "name": "ipython",
    "version": 3
   },
   "file_extension": ".py",
   "mimetype": "text/x-python",
   "name": "python",
   "nbconvert_exporter": "python",
   "pygments_lexer": "ipython3",
   "version": "3.8.8"
  }
 },
 "nbformat": 4,
 "nbformat_minor": 5
}
